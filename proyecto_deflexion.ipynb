{
 "cells": [
  {
   "cell_type": "markdown",
   "id": "7365e57d",
   "metadata": {},
   "source": [
    "# Simulador de Ejes\n",
    "### Ian Gross Sánchez"
   ]
  },
  {
   "cell_type": "markdown",
   "id": "82ac0189",
   "metadata": {},
   "source": [
    "## Librerías"
   ]
  },
  {
   "cell_type": "code",
   "execution_count": 1,
   "id": "8509d906",
   "metadata": {},
   "outputs": [],
   "source": [
    "import numpy as np\n",
    "import matplotlib.pyplot as plt\n",
    "from scipy.integrate import cumulative_trapezoid as cumtrapz"
   ]
  },
  {
   "cell_type": "markdown",
   "id": "2e3e2215",
   "metadata": {},
   "source": [
    "## Moments of Inertia"
   ]
  },
  {
   "cell_type": "code",
   "execution_count": 2,
   "id": "1ac94855",
   "metadata": {},
   "outputs": [
    {
     "name": "stdout",
     "output_type": "stream",
     "text": [
      "1.5707963267948969e-06\n"
     ]
    }
   ],
   "source": [
    "cross = 'solid_circular'\n",
    "D = float(0.02) # Circular diameter [m]\n",
    "# 0.02 da para un AISI4140 (Resistencia a la tensión de 1770 MPa)\n",
    "# 0.025 da para un AISI1040 (Resistencia a la tensión de 700 MPa)\n",
    "r = D / 2  # Circular radius [m]\n",
    "C = 1.33  # Shear correction factor for circular section\n",
    "I = np.pi * r**4 / 4  # Moment of inertia [m^4]\n",
    "J = np.pi * r**4 / 2  # Polar moment of inertia [m^4]\n",
    "A = np.pi * r**2  # Cross-sectional area [m^2]\n",
    "y_max = r  # Maximum distance from the neutral axis to the outer fiber [m]\n",
    "Q = np.pi * r**3 / 2  # First moment of area [m^3]\n",
    "print(Q)"
   ]
  },
  {
   "cell_type": "markdown",
   "id": "0c16b033",
   "metadata": {},
   "source": [
    "## Material Properties"
   ]
  },
  {
   "cell_type": "code",
   "execution_count": 3,
   "id": "b594b95c",
   "metadata": {},
   "outputs": [],
   "source": [
    "#####################\n",
    "# Material properties\n",
    "#####################\n",
    "name = 'AISI4140'\n",
    "type = 'steel'\n",
    "\n",
    "#######################\n",
    "# Mechanical properties\n",
    "#######################\n",
    "rho = 7850  # Density [kg/m^3]\n",
    "sigma_tension = 1770 * 10**6  # Yield strength [Pa]\n",
    "\n",
    "E = 210*10**9           # Young's modulus [Pa]\n",
    "nu = 0.3                # Poisson's ratio\n",
    "G = E / (2 * (1 + nu))  # Shear modulus [Pa]\n"
   ]
  },
  {
   "cell_type": "markdown",
   "id": "424855f2",
   "metadata": {},
   "source": [
    "## Geometry"
   ]
  },
  {
   "cell_type": "code",
   "execution_count": 4,
   "id": "81ab6821",
   "metadata": {},
   "outputs": [
    {
     "name": "stdout",
     "output_type": "stream",
     "text": [
      "El largo de la barra es: 0.23 m\n",
      "Elementos en la barra:\n",
      "1. Apoyo Simple en la posición 0.0 mm\n",
      "2. Engrane Recto en la posición 20.0 mm - Peso: 202.12 N - Radio del centroide: 0.08 m\n",
      "3. Engrane Epicíclico en la posición 90.0 mm - Peso: 209.03 N - Radio del centroide: 0.07 m\n",
      "4. Engrane Epicíclico en la posición 160.0 mm - Peso: 335.37 N - Radio del centroide: 0.09 m\n",
      "5. Apoyo Simple en la posición 230.0 mm\n"
     ]
    }
   ],
   "source": [
    "##########\n",
    "# Geometry\n",
    "##########\n",
    "# Coordinate system\n",
    "# y ^\n",
    "#   |\n",
    "# z o---> x\n",
    "g = 9.81  # Gravity [m/s^2]\n",
    "\n",
    "\n",
    "######\n",
    "# Beam\n",
    "######\n",
    "positions = [\n",
    "    (0.00, 'Apoyo Simple'), # 1\n",
    "    (0.02, 'Engrane Recto'), # 2\n",
    "    (0.07 + 0.02, 'Engrane Epicíclico'), # 3\n",
    "    (0.07 + 0.07 + 0.02, 'Engrane Epicíclico'), # 4\n",
    "    (0.07 + 0.07 + 0.07 + 0.02, 'Apoyo Simple') # 5\n",
    "]\n",
    "\n",
    "L = positions[-1][0]  # Beam Length [m]\n",
    "x = np.linspace(0, L, 1000) # Discretization\n",
    "\n",
    "\n",
    "#########\n",
    "# Weights\n",
    "#########\n",
    "# Cilindro Sólido\n",
    "def gear_weight(d_mm, e_mm):\n",
    "    r = d_mm / 2000  # Radio [m]\n",
    "    e_m = e_mm / 1000 # Espesor [m]\n",
    "    volume = np.pi * r**2 * e_m\n",
    "    mass = rho * volume\n",
    "    return mass * g \n",
    "\n",
    "e = 60      # Espesor de cara [mm]\n",
    "\n",
    "# 0\n",
    "D_E0 = 236  # Engrane Recto [mm]\n",
    "# 1\n",
    "D_ES1 = 72  # Engrane Epicíclico 1 - Sol [mm]\n",
    "D_EP1 = 84  # Engrane Epicíclico 1 - Planeta [mm]\n",
    "D_EC1 = 240  # Engrane Epicíclico 1 - Corona [mm]\n",
    "# 2\n",
    "D_ES2 = 168  # Engrane Epicíclico 2 - Sol [mm]\n",
    "D_EP2 = 68  # Engrane Epicíclico 2 - Planeta [mm]\n",
    "D_EC2 = 304  # Engrane Epicíclico 2 - Corona [mm]\n",
    "\n",
    "# Pesos individuales\n",
    "W_g0 = gear_weight(D_E0, e)  # Engrane Recto\n",
    "W_g1 = gear_weight(D_EC1, e)  # Engrane Epicíclico pequeño\n",
    "W_g2 = gear_weight(D_EC2, e)  # Engrane Epicíclico grande\n",
    "\n",
    "# Asignar pesos a posiciones\n",
    "weight_map = {\n",
    "    1: W_g0,  # Engrane Recto\n",
    "    2: W_g1,  # Engrane Epicíclico 1\n",
    "    3: W_g2   # Engrane Epicíclico 2\n",
    "}\n",
    "\n",
    "\n",
    "r_CM0 = (D_E0 / 3) / 1000 # Radio del centroide [m]\n",
    "# Revisar\n",
    "r_CM1 = (D_ES1 / 3 - (D_ES1 + D_EP1)/2 + D_EC1/2)/1000 # Radio del centroide [m]\n",
    "r_CM2 = (D_ES2 / 3 - (D_ES2 + D_EP2)/2 + D_EC2/2) / 1000 # Radio del centroide [m]\n",
    "\n",
    "radii_map = {\n",
    "    1: r_CM0,  # Engrane Recto\n",
    "    2: r_CM1,  # Engrane Epicíclico 1\n",
    "    3: r_CM2   # Engrane Epicíclico 2\n",
    "}\n",
    "\n",
    "#################\n",
    "# Informe\n",
    "#################\n",
    "print(\"El largo de la barra es:\", round(L, 3), \"m\")\n",
    "print(\"Elementos en la barra:\")\n",
    "\n",
    "for i, (p, msg) in enumerate(positions):\n",
    "    line = f\"{i+1}. {msg} en la posición {round(p * 1000, 2)} mm\"\n",
    "    if i in weight_map:\n",
    "        w = weight_map[i]\n",
    "        line += f\" - Peso: {round(w, 2)} N\"\n",
    "        r = radii_map[i]\n",
    "        line += f\" - Radio del centroide: {round(r, 2)} m\"\n",
    "\n",
    "    print(line)\n"
   ]
  },
  {
   "cell_type": "markdown",
   "id": "5691a432",
   "metadata": {},
   "source": [
    "## Support"
   ]
  },
  {
   "cell_type": "code",
   "execution_count": 5,
   "id": "fe0e99cd",
   "metadata": {},
   "outputs": [],
   "source": [
    "# Supported - Supported Beam\n",
    "# ------------\n",
    "# ^         oo\n",
    "support = 'supported-supported'"
   ]
  },
  {
   "cell_type": "markdown",
   "id": "5b961bb8",
   "metadata": {},
   "source": [
    "## Free Body Diagram"
   ]
  },
  {
   "cell_type": "code",
   "execution_count": 6,
   "id": "95691e88",
   "metadata": {},
   "outputs": [
    {
     "name": "stdout",
     "output_type": "stream",
     "text": [
      "Análisis Dinámico\n",
      "\n",
      "Trabajo Gravitacional:\n",
      "W_g1 = 202.12 N en x = 0.02 m\n",
      "W_g2 = 209.03 N en x = 0.09 m\n",
      "W_g3 = 335.37 N en x = 0.16 m\n",
      "\n",
      "Trabajo Radial:\n",
      "W_r1 = 1349.9 N en x = 0.02 m\n",
      "\n",
      "Trabajo Tangencial:\n",
      "W_t1 = 3708.8 N en x = 0.02 m\n",
      "W_t2 = 1227.25 N en x = 0.09 m\n",
      "W_t3 = 1771.97 N en x = 0.16 m\n",
      "\n",
      "Momento Torsion Tangencial:\n",
      "MF_t1 = 291.76 Nm en x = 0.02 m\n",
      "MF_t2 = 81.0 Nm en x = 0.09 m\n",
      "MF_t3 = 159.48 Nm en x = 0.16 m\n"
     ]
    }
   ],
   "source": [
    "########\n",
    "# Forces\n",
    "########\n",
    "# Trabajo Gravitacional\n",
    "xW_g = np.array([positions[1][0], positions[2][0], positions[3][0]])  # x coordinates of weights [m]\n",
    "W_g = np.array([weight_map.get(i, 0) for i in range(1, 4)])  # Weights [N]\n",
    "# Trabajo Radial\n",
    "xW_r = np.array([positions[1][0]])  # x coordinates of radial work [m]\n",
    "W_r = np.array([1349.9]) # Radial Work [N]\n",
    "# Trabajo Tangencial\n",
    "xW_t = np.array([positions[1][0], positions[2][0], positions[3][0]])  # x coordinates of tangential work [m]\n",
    "W_t = np.array([3708.8, 1227.25, 1771.97]) # Tangential Work [N]\n",
    "\n",
    "#########\n",
    "# Moments\n",
    "#########\n",
    "# Momento Torsional = Fuerza Tangencial * r_CM\n",
    "xMT_t = np.array([positions[1][0], positions[2][0], positions[3][0]])  # x coordinates of tangential moment [m]\n",
    "MT_t = W_t * np.array([radii_map[i] for i in range(1, 4)])  # Tangential Bending Moment [N*m]\n",
    "# Momento Flector\n",
    "# xMBz = np.array([positions[1][0], positions[2][0], positions[3][0]])  # x coordinate of Bending Moment [m]\n",
    "# MBz = np.array([291.76, 81, 159.48])  # Bending Moment [N*m]\n",
    "\n",
    "\n",
    "#################\n",
    "# Generar Informe\n",
    "#################\n",
    "print(\"Análisis Dinámico\\n\")\n",
    "# Fuerzas\n",
    "print(\"Trabajo Gravitacional:\")\n",
    "for i, w in enumerate(W_g):\n",
    "    print(f\"W_g{i+1} =\", round(w, 2), \"N\", \"en x =\", round(xW_g[i], 3), \"m\")\n",
    "print(\"\\nTrabajo Radial:\")\n",
    "for i, w in enumerate(W_r):\n",
    "    print(f\"W_r{i+1} =\", round(w, 2), \"N\", \"en x =\", round(xW_r[i], 3), \"m\")\n",
    "print(\"\\nTrabajo Tangencial:\")\n",
    "for i, w in enumerate(W_t):\n",
    "    print(f\"W_t{i+1} =\", round(w, 2), \"N\", \"en x =\", round(xW_t[i], 3), \"m\")\n",
    "# Momentos Flectores\n",
    "print(\"\\nMomento Torsion Tangencial:\")\n",
    "for i, m in enumerate(MT_t):\n",
    "    print(f\"MF_t{i+1} =\", round(m, 2), \"Nm\", \"en x =\", round(xW_t[i], 3), \"m\")\n"
   ]
  },
  {
   "cell_type": "markdown",
   "id": "cc3482ce",
   "metadata": {},
   "source": [
    "## Momento y Esfuerzos"
   ]
  },
  {
   "cell_type": "code",
   "execution_count": 7,
   "id": "1ece291e",
   "metadata": {},
   "outputs": [
    {
     "data": {
      "image/png": "[encoded data removed]",
      "text/plain": [
       "<Figure size 640x480 with 1 Axes>"
      ]
     },
     "metadata": {},
     "output_type": "display_data"
    },
    {
     "name": "stdout",
     "output_type": "stream",
     "text": [
      "Maximum bending stress: 255.21 MPa at 0.09 m\n",
      "Maximum torsion stress: 338.83 MPa at 0.00 m\n",
      "Maximum Von Mises stress: 608.11 MPa at 0.02 m\n"
     ]
    }
   ],
   "source": [
    "#######################\n",
    "# Stress contribution x\n",
    "#######################\n",
    "MF = np.zeros_like(x, dtype=float) # Momento Flector\n",
    "MT = np.zeros_like(x, dtype=float) # Momento Torsor\n",
    "\n",
    "# Fuerzas\n",
    "# Trabajo Gravitacional\n",
    "for W_gi, xW_gi in zip(W_g, xW_g):\n",
    "    MF += np.where(x < xW_gi, W_gi * (L - xW_gi) * x / L, W_gi * xW_gi * (L - x) / L)\n",
    "# Trabajo Radial\n",
    "for W_ri, xW_ri in zip(W_r, xW_r):\n",
    "    MF += np.where(x < xW_ri, W_ri * (L - xW_ri) * x / L, W_ri * xW_ri * (L - x) / L)\n",
    "# Trabajo Tangencial\n",
    "for W_ti, xW_ti in zip(W_t, xW_t):\n",
    "    MF += np.where(x < xW_ti, W_ti * (L - xW_ti) * x / L, W_ti * xW_ti * (L - x) / L)\n",
    "\n",
    "# Momentos\n",
    "for MT_ti, xMT_ti in zip(MT_t, xW_t):\n",
    "    MT += MT_ti * (x <= xMT_ti)\n",
    "\n",
    "# sigma_z\n",
    "sigmaz = MF * y_max / I # Bending stress [Pa]\n",
    "sigma_max = np.max(np.abs(sigmaz))*1e-6  # Maximum bending stress [MPa]\n",
    "x_sigma_max = x[np.argmax(np.abs(sigmaz))]  # Position of maximum bending stress [m]\n",
    "\n",
    "tau = MT * y_max / J  # Shear stress [Pa]\n",
    "tau_max = np.max(np.abs(tau)) * 1e-6  # Maximum shear stress [MPa]\n",
    "x_tau_max = x[np.argmax(np.abs(tau))]  # Position of maximum shear stress [m]\n",
    "\n",
    "sigma_VonMises = np.sqrt(sigmaz**2 + 3 * tau**2)  # Von Mises stress [Pa]\n",
    "sigma_VonMises_max = np.max(sigma_VonMises) * 1e-6  # Maximum Von Mises stress [MPa]\n",
    "x_sigma_VonMises_max = x[np.argmax(sigma_VonMises)]  # Position of maximum Von Mises stress [m]\n",
    "\n",
    "#################\n",
    "# Generar Informe\n",
    "#################\n",
    "plt.title('Bending Stress Distribution')\n",
    "plt.xlabel('Position along the beam (m)')\n",
    "plt.ylabel('Bending Stress (MPa)')\n",
    "plt.plot(x, sigmaz * 1e-6, label='Bending Stress (MPa)', color='red')\n",
    "plt.plot(x, tau * 1e-6, label='Shear Stress (MPa)', color='green')\n",
    "plt.plot(x, sigma_VonMises * 1e-6, label='Von Mises Stress (MPa)', color='blue')\n",
    "\n",
    "plt.axhline(sigma_VonMises_max, color='black', linestyle='--', label='Max Bending Stress')\n",
    "plt.axvline(x_sigma_VonMises_max, color='black', linestyle='--')\n",
    "\n",
    "plt.grid()\n",
    "plt.legend()\n",
    "plt.show()\n",
    "\n",
    "print(f'Maximum bending stress: {sigma_max:.2f} MPa at {x_sigma_max:.2f} m')\n",
    "print(f'Maximum torsion stress: {tau_max:.2f} MPa at {x_tau_max:.2f} m')\n",
    "print(f'Maximum Von Mises stress: {sigma_VonMises_max:.2f} MPa at {x_sigma_VonMises_max:.2f} m')\n",
    "\n"
   ]
  },
  {
   "cell_type": "markdown",
   "id": "de59123f",
   "metadata": {},
   "source": [
    "##  Integración para Deflexión"
   ]
  },
  {
   "cell_type": "code",
   "execution_count": 8,
   "id": "d5d6ba9b",
   "metadata": {},
   "outputs": [
    {
     "name": "stdout",
     "output_type": "stream",
     "text": [
      "Maximum deflection due to bending: 0.67 mm\n",
      "Critical point: 0.11 m\n"
     ]
    }
   ],
   "source": [
    "# Stress sigma\n",
    "theta0 = cumtrapz(MF / (E*I), x, initial=0)\n",
    "delta0 = cumtrapz(theta0, x, initial=0)\n",
    "\n",
    "C2 = delta0[-1] / L\n",
    "theta = -theta0 + C2\n",
    "delta_bending = cumtrapz(theta, x, initial=0)\n",
    "\n",
    "# Max Deflection\n",
    "max_deflection_bending_mm = np.max(np.abs(delta_bending)) * 1e3\n",
    "x_max = x[np.argmax(np.abs(delta_bending))]\n",
    "\n",
    "print(f'Maximum deflection due to bending: {max_deflection_bending_mm:.2f} mm')\n",
    "print(f'Critical point: {x_max:.2f} m')"
   ]
  },
  {
   "cell_type": "markdown",
   "id": "faec2e31",
   "metadata": {},
   "source": [
    "## Plot"
   ]
  },
  {
   "cell_type": "code",
   "execution_count": 9,
   "id": "99da2d19",
   "metadata": {},
   "outputs": [
    {
     "data": {
      "image/png": "[encoded data removed]",
      "text/plain": [
       "<Figure size 700x300 with 1 Axes>"
      ]
     },
     "metadata": {},
     "output_type": "display_data"
    },
    {
     "name": "stdout",
     "output_type": "stream",
     "text": [
      "Support points = supported-supported\n",
      "Cross-section: solid_circular, D: 0.02 m, I: 7.85e-09 m^4, J: 1.57e-08 m^4, A: 3.14e-04 m^2\n",
      "Max deflection at x = 0.112 m: 0.675 mm\n"
     ]
    }
   ],
   "source": [
    "plt.figure(figsize=(7, 3))\n",
    "plt.plot(x, delta_bending * 1e3, color=\"blue\")  # Convert to mm\n",
    "plt.title(\"Deflection of a Axis\")\n",
    "plt.xlabel(\"x [m]\")\n",
    "plt.ylabel(\"Deflection y(x) [mm]\")\n",
    "plt.grid(True)\n",
    "\n",
    "plt.tight_layout()\n",
    "plt.show()\n",
    "\n",
    "print(f\"Support points = {support}\")\n",
    "print(f\"Cross-section: {cross}, D: {D} m, I: {I:.2e} m^4, J: {J:.2e} m^4, A: {A:.2e} m^2\")\n",
    "print(f\"Max deflection at x = {x_max:.3f} m: {max_deflection_bending_mm:.3f} mm\")\n",
    "\n"
   ]
  },
  {
   "cell_type": "code",
   "execution_count": null,
   "id": "4cc5c93d",
   "metadata": {},
   "outputs": [],
   "source": []
  },
  {
   "cell_type": "code",
   "execution_count": null,
   "id": "f5c81c7d",
   "metadata": {},
   "outputs": [],
   "source": []
  }
 ],
 "metadata": {
  "kernelspec": {
   "display_name": "base",
   "language": "python",
   "name": "python3"
  },
  "language_info": {
   "codemirror_mode": {
    "name": "ipython",
    "version": 3
   },
   "file_extension": ".py",
   "mimetype": "text/x-python",
   "name": "python",
   "nbconvert_exporter": "python",
   "pygments_lexer": "ipython3",
   "version": "3.11.5"
  }
 },
 "nbformat": 4,
 "nbformat_minor": 5
}
